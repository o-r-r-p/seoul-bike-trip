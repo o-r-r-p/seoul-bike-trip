{
 "cells": [
  {
   "cell_type": "code",
   "execution_count": 1,
   "id": "528b2cd2-917c-47d8-8ef9-b11ddb1925b0",
   "metadata": {},
   "outputs": [],
   "source": [
    "import gc\n",
    "import pandas as pd\n",
    "import polars as pl\n",
    "import numpy as np\n",
    "import datetime as dt\n",
    "\n",
    "from sklearn.metrics import mean_squared_error\n",
    "from sklearn.model_selection import KFold\n",
    "\n",
    "import warnings\n",
    "warnings.filterwarnings('ignore')\n",
    "import pickle\n",
    "\n",
    "import lightgbm as lgb\n",
    "import sys\n",
    "from pathlib import Path\n",
    "\n",
    "# スクリプトのあるディレクトリの絶対パスを取得\n",
    "script_dir = str(Path('../scripts').resolve())\n",
    "\n",
    "# sys.pathにスクリプトのディレクトリを追加\n",
    "if script_dir not in sys.path:\n",
    "    sys.path.insert(0, script_dir)\n",
    "\n",
    "from preprocess import reduce_mem_usage, feature_engineering"
   ]
  },
  {
   "cell_type": "code",
   "execution_count": 5,
   "id": "7c7e033f-272b-45aa-9409-504d10f92d87",
   "metadata": {},
   "outputs": [],
   "source": [
    "train = reduce_mem_usage(pl.scan_parquet(\"../data/train.parquet\")).collect().to_pandas()\n",
    "test = reduce_mem_usage(pl.scan_parquet(\"../data/test.parquet\")).collect().to_pandas()"
   ]
  },
  {
   "cell_type": "code",
   "execution_count": 6,
   "id": "3781daf1-cc87-4b13-8ce4-e1be039f3af2",
   "metadata": {},
   "outputs": [],
   "source": [
    "# データの準備\n",
    "X, y = train.iloc[:, 1:], train[\"Duration\"]\n",
    "X_test = test.iloc[:, 1:]\n",
    "y_test = test[\"Duration\"]\n",
    "\n",
    "# LightGBMのパラメータ設定\n",
    "params = {\n",
    "    'boosting_type': 'gbdt', # LightGBMでは 'gbdt' が通常の勾配ブースティングを表す\n",
    "    'objective': 'regression',\n",
    "    'metric': 'rmse',\n",
    "    'learning_rate': 0.01,\n",
    "    'lambda_l2': 0.2,\n",
    "    'max_depth': 7,\n",
    "    'num_leaves': 64, # LightGBM特有のパラメータ、ツリーの葉の数\n",
    "    'min_child_weight': 1,\n",
    "    'subsample': 1,\n",
    "    'colsample_bytree': 1,\n",
    "    'verbose': -1 # verboseの設定は -1, 0, 1 となります\n",
    "}\n",
    "\n",
    "# KFoldの設定\n",
    "kf = KFold(n_splits=5, shuffle=True, random_state=42)\n",
    "\n",
    "del train, test\n"
   ]
  },
  {
   "cell_type": "code",
   "execution_count": 7,
   "id": "23a8f97c-67aa-4384-abe2-2da7399f6f91",
   "metadata": {},
   "outputs": [
    {
     "name": "stdout",
     "output_type": "stream",
     "text": [
      "KFold: 1 Start\n",
      "Training until validation scores don't improve for 50 rounds\n",
      "[100]\ttraining's rmse: 15.8818\tvalid_1's rmse: 15.8751\n",
      "[200]\ttraining's rmse: 13.8626\tvalid_1's rmse: 13.8627\n",
      "[300]\ttraining's rmse: 12.9638\tvalid_1's rmse: 12.9668\n",
      "[400]\ttraining's rmse: 11.9402\tvalid_1's rmse: 11.9447\n",
      "[500]\ttraining's rmse: 10.9852\tvalid_1's rmse: 10.9928\n",
      "[600]\ttraining's rmse: 10.2922\tvalid_1's rmse: 10.3043\n",
      "[700]\ttraining's rmse: 9.78369\tvalid_1's rmse: 9.79853\n",
      "[800]\ttraining's rmse: 9.35469\tvalid_1's rmse: 9.37143\n",
      "[900]\ttraining's rmse: 8.98046\tvalid_1's rmse: 9.00001\n",
      "[1000]\ttraining's rmse: 8.65194\tvalid_1's rmse: 8.67296\n",
      "[1100]\ttraining's rmse: 8.36043\tvalid_1's rmse: 8.38367\n",
      "[1200]\ttraining's rmse: 8.08727\tvalid_1's rmse: 8.1126\n",
      "[1300]\ttraining's rmse: 7.82964\tvalid_1's rmse: 7.8575\n",
      "[1400]\ttraining's rmse: 7.60144\tvalid_1's rmse: 7.6313\n",
      "[1500]\ttraining's rmse: 7.38657\tvalid_1's rmse: 7.41842\n",
      "[1600]\ttraining's rmse: 7.20586\tvalid_1's rmse: 7.23942\n",
      "[1700]\ttraining's rmse: 7.03489\tvalid_1's rmse: 7.07049\n",
      "[1800]\ttraining's rmse: 6.85502\tvalid_1's rmse: 6.89263\n",
      "[1900]\ttraining's rmse: 6.68751\tvalid_1's rmse: 6.72609\n",
      "[2000]\ttraining's rmse: 6.52644\tvalid_1's rmse: 6.56539\n",
      "Did not meet early stopping. Best iteration is:\n",
      "[2000]\ttraining's rmse: 6.52644\tvalid_1's rmse: 6.56539\n",
      "KFold: 1 ==> RMSE: 6.5783\n",
      "KFold: 2 Start\n",
      "Training until validation scores don't improve for 50 rounds\n"
     ]
    },
    {
     "ename": "KeyboardInterrupt",
     "evalue": "",
     "output_type": "error",
     "traceback": [
      "\u001b[0;31m---------------------------------------------------------------------------\u001b[0m",
      "\u001b[0;31mKeyboardInterrupt\u001b[0m                         Traceback (most recent call last)",
      "Cell \u001b[0;32mIn[7], line 14\u001b[0m\n\u001b[1;32m     11\u001b[0m \u001b[38;5;28mprint\u001b[39m(\u001b[38;5;124mf\u001b[39m\u001b[38;5;124m\"\u001b[39m\u001b[38;5;124mKFold: \u001b[39m\u001b[38;5;132;01m{\u001b[39;00mi\u001b[38;5;241m+\u001b[39m\u001b[38;5;241m1\u001b[39m\u001b[38;5;132;01m}\u001b[39;00m\u001b[38;5;124m Start\u001b[39m\u001b[38;5;124m\"\u001b[39m)\n\u001b[1;32m     13\u001b[0m \u001b[38;5;66;03m# モデル学習\u001b[39;00m\n\u001b[0;32m---> 14\u001b[0m model \u001b[38;5;241m=\u001b[39m \u001b[43mlgb\u001b[49m\u001b[38;5;241;43m.\u001b[39;49m\u001b[43mtrain\u001b[49m\u001b[43m(\u001b[49m\u001b[43mparams\u001b[49m\u001b[43m,\u001b[49m\n\u001b[1;32m     15\u001b[0m \u001b[43m                  \u001b[49m\u001b[43mlgb_train\u001b[49m\u001b[43m,\u001b[49m\n\u001b[1;32m     16\u001b[0m \u001b[43m                  \u001b[49m\u001b[43mnum_boost_round\u001b[49m\u001b[38;5;241;43m=\u001b[39;49m\u001b[38;5;241;43m2000\u001b[39;49m\u001b[43m,\u001b[49m\n\u001b[1;32m     17\u001b[0m \u001b[43m                  \u001b[49m\u001b[43mvalid_sets\u001b[49m\u001b[38;5;241;43m=\u001b[39;49m\u001b[43m[\u001b[49m\u001b[43mlgb_train\u001b[49m\u001b[43m,\u001b[49m\u001b[43m \u001b[49m\u001b[43mlgb_val\u001b[49m\u001b[43m]\u001b[49m\u001b[43m,\u001b[49m\n\u001b[1;32m     18\u001b[0m \u001b[43m                  \u001b[49m\u001b[43mearly_stopping_rounds\u001b[49m\u001b[38;5;241;43m=\u001b[39;49m\u001b[38;5;241;43m50\u001b[39;49m\u001b[43m,\u001b[49m\n\u001b[1;32m     19\u001b[0m \u001b[43m                  \u001b[49m\u001b[43mcategorical_feature\u001b[49m\u001b[38;5;241;43m=\u001b[39;49m\u001b[43mcategorical_feature\u001b[49m\u001b[43m,\u001b[49m\n\u001b[1;32m     20\u001b[0m \u001b[43m                  \u001b[49m\u001b[43mverbose_eval\u001b[49m\u001b[38;5;241;43m=\u001b[39;49m\u001b[38;5;241;43m100\u001b[39;49m\n\u001b[1;32m     21\u001b[0m \u001b[43m                 \u001b[49m\u001b[43m)\u001b[49m\n\u001b[1;32m     23\u001b[0m \u001b[38;5;66;03m# 推論\u001b[39;00m\n\u001b[1;32m     24\u001b[0m y_pred \u001b[38;5;241m=\u001b[39m model\u001b[38;5;241m.\u001b[39mpredict(X_test, num_iteration\u001b[38;5;241m=\u001b[39mmodel\u001b[38;5;241m.\u001b[39mbest_iteration)\n",
      "File \u001b[0;32m/opt/conda/lib/python3.10/site-packages/lightgbm/engine.py:292\u001b[0m, in \u001b[0;36mtrain\u001b[0;34m(params, train_set, num_boost_round, valid_sets, valid_names, fobj, feval, init_model, feature_name, categorical_feature, early_stopping_rounds, evals_result, verbose_eval, learning_rates, keep_training_booster, callbacks)\u001b[0m\n\u001b[1;32m    284\u001b[0m \u001b[38;5;28;01mfor\u001b[39;00m cb \u001b[38;5;129;01min\u001b[39;00m callbacks_before_iter:\n\u001b[1;32m    285\u001b[0m     cb(callback\u001b[38;5;241m.\u001b[39mCallbackEnv(model\u001b[38;5;241m=\u001b[39mbooster,\n\u001b[1;32m    286\u001b[0m                             params\u001b[38;5;241m=\u001b[39mparams,\n\u001b[1;32m    287\u001b[0m                             iteration\u001b[38;5;241m=\u001b[39mi,\n\u001b[1;32m    288\u001b[0m                             begin_iteration\u001b[38;5;241m=\u001b[39minit_iteration,\n\u001b[1;32m    289\u001b[0m                             end_iteration\u001b[38;5;241m=\u001b[39minit_iteration \u001b[38;5;241m+\u001b[39m num_boost_round,\n\u001b[1;32m    290\u001b[0m                             evaluation_result_list\u001b[38;5;241m=\u001b[39m\u001b[38;5;28;01mNone\u001b[39;00m))\n\u001b[0;32m--> 292\u001b[0m \u001b[43mbooster\u001b[49m\u001b[38;5;241;43m.\u001b[39;49m\u001b[43mupdate\u001b[49m\u001b[43m(\u001b[49m\u001b[43mfobj\u001b[49m\u001b[38;5;241;43m=\u001b[39;49m\u001b[43mfobj\u001b[49m\u001b[43m)\u001b[49m\n\u001b[1;32m    294\u001b[0m evaluation_result_list \u001b[38;5;241m=\u001b[39m []\n\u001b[1;32m    295\u001b[0m \u001b[38;5;66;03m# check evaluation result.\u001b[39;00m\n",
      "File \u001b[0;32m/opt/conda/lib/python3.10/site-packages/lightgbm/basic.py:3021\u001b[0m, in \u001b[0;36mBooster.update\u001b[0;34m(self, train_set, fobj)\u001b[0m\n\u001b[1;32m   3019\u001b[0m \u001b[38;5;28;01mif\u001b[39;00m \u001b[38;5;28mself\u001b[39m\u001b[38;5;241m.\u001b[39m__set_objective_to_none:\n\u001b[1;32m   3020\u001b[0m     \u001b[38;5;28;01mraise\u001b[39;00m LightGBMError(\u001b[38;5;124m'\u001b[39m\u001b[38;5;124mCannot update due to null objective function.\u001b[39m\u001b[38;5;124m'\u001b[39m)\n\u001b[0;32m-> 3021\u001b[0m _safe_call(\u001b[43m_LIB\u001b[49m\u001b[38;5;241;43m.\u001b[39;49m\u001b[43mLGBM_BoosterUpdateOneIter\u001b[49m\u001b[43m(\u001b[49m\n\u001b[1;32m   3022\u001b[0m \u001b[43m    \u001b[49m\u001b[38;5;28;43mself\u001b[39;49m\u001b[38;5;241;43m.\u001b[39;49m\u001b[43mhandle\u001b[49m\u001b[43m,\u001b[49m\n\u001b[1;32m   3023\u001b[0m \u001b[43m    \u001b[49m\u001b[43mctypes\u001b[49m\u001b[38;5;241;43m.\u001b[39;49m\u001b[43mbyref\u001b[49m\u001b[43m(\u001b[49m\u001b[43mis_finished\u001b[49m\u001b[43m)\u001b[49m\u001b[43m)\u001b[49m)\n\u001b[1;32m   3024\u001b[0m \u001b[38;5;28mself\u001b[39m\u001b[38;5;241m.\u001b[39m__is_predicted_cur_iter \u001b[38;5;241m=\u001b[39m [\u001b[38;5;28;01mFalse\u001b[39;00m \u001b[38;5;28;01mfor\u001b[39;00m _ \u001b[38;5;129;01min\u001b[39;00m \u001b[38;5;28mrange\u001b[39m(\u001b[38;5;28mself\u001b[39m\u001b[38;5;241m.\u001b[39m__num_dataset)]\n\u001b[1;32m   3025\u001b[0m \u001b[38;5;28;01mreturn\u001b[39;00m is_finished\u001b[38;5;241m.\u001b[39mvalue \u001b[38;5;241m==\u001b[39m \u001b[38;5;241m1\u001b[39m\n",
      "\u001b[0;31mKeyboardInterrupt\u001b[0m: "
     ]
    }
   ],
   "source": [
    "categorical_feature = [\"PDweek\", \"DDweek\"]\n",
    "rmse = []\n",
    "for i, (train_index, val_index) in enumerate(kf.split(X)):\n",
    "    X_train, X_val = X.iloc[train_index], X.iloc[val_index]\n",
    "    y_train, y_val = y.iloc[train_index], y.iloc[val_index]\n",
    "    \n",
    "    # LightGBM用データセットの作成\n",
    "    lgb_train = lgb.Dataset(X_train, y_train)\n",
    "    lgb_val = lgb.Dataset(X_val, y_val, reference=lgb_train)\n",
    "    \n",
    "    print(f\"KFold: {i+1} Start\")\n",
    "    \n",
    "    # モデル学習\n",
    "    model = lgb.train(params,\n",
    "                      lgb_train,\n",
    "                      num_boost_round=2000,\n",
    "                      valid_sets=[lgb_train, lgb_val],\n",
    "                      early_stopping_rounds=50,\n",
    "                      categorical_feature=categorical_feature,\n",
    "                      verbose_eval=100\n",
    "                     )\n",
    "    \n",
    "    # 推論\n",
    "    y_pred = model.predict(X_test, num_iteration=model.best_iteration)\n",
    "\n",
    "    score = np.sqrt(mean_squared_error(y_test, y_pred))\n",
    "    rmse.append(score)\n",
    "    print(f\"KFold: {i+1} ==> RMSE: {score:.4f}\")\n",
    "    # with open(f\"./models/baseline_lgbm/model_5000_{i+1}.pickle\", mode='wb') as f:\n",
    "    #     pickle.dump(model, f)\n",
    "\n",
    "print(f\"Average RMSE: {np.mean(rmse):.4f} ± {np.std(rmse):.4f}\")"
   ]
  },
  {
   "cell_type": "code",
   "execution_count": null,
   "id": "bc4ded8b-d793-4233-bfef-3d83c4db459c",
   "metadata": {},
   "outputs": [],
   "source": []
  }
 ],
 "metadata": {
  "kernelspec": {
   "display_name": "Python 3 (ipykernel)",
   "language": "python",
   "name": "python3"
  },
  "language_info": {
   "codemirror_mode": {
    "name": "ipython",
    "version": 3
   },
   "file_extension": ".py",
   "mimetype": "text/x-python",
   "name": "python",
   "nbconvert_exporter": "python",
   "pygments_lexer": "ipython3",
   "version": "3.10.12"
  }
 },
 "nbformat": 4,
 "nbformat_minor": 5
}
