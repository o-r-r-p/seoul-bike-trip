{
 "cells": [
  {
   "cell_type": "code",
   "execution_count": 1,
   "id": "8eab12df-9636-4709-85f1-d6abd3e7ea0a",
   "metadata": {},
   "outputs": [],
   "source": [
    "import gc\n",
    "import pandas as pd\n",
    "import polars as pl\n",
    "import numpy as np\n",
    "import datetime as dt\n",
    "\n",
    "import matplotlib.pyplot as plt\n",
    "import matplotlib.cm as cm\n",
    "import seaborn as sns\n",
    "\n",
    "import plotly.graph_objects as go\n",
    "from plotly.subplots import make_subplots\n",
    "import plotly.express as px\n",
    "import plotly.offline\n",
    "\n",
    "import warnings\n",
    "warnings.filterwarnings('ignore')"
   ]
  },
  {
   "cell_type": "code",
   "execution_count": 17,
   "id": "12d24694-9193-4ec8-ab58-aebfda7c7ef4",
   "metadata": {},
   "outputs": [],
   "source": [
    "train = pl.read_parquet('../data/train.parquet')\n",
    "test = pl.read_parquet('../data/test.parquet')"
   ]
  },
  {
   "cell_type": "code",
   "execution_count": 18,
   "id": "85e9ccfd-2d25-4d49-b362-d1336bb49379",
   "metadata": {},
   "outputs": [
    {
     "name": "stdout",
     "output_type": "stream",
     "text": [
      "121\n"
     ]
    },
    {
     "data": {
      "text/html": [
       "<div><style>\n",
       ".dataframe > thead > tr > th,\n",
       ".dataframe > tbody > tr > td {\n",
       "  text-align: right;\n",
       "  white-space: pre-wrap;\n",
       "}\n",
       "</style>\n",
       "<small>shape: (5, 27)</small><table border=\"1\" class=\"dataframe\"><thead><tr><th>Duration</th><th>Distance</th><th>PLong</th><th>PLatd</th><th>DLong</th><th>DLatd</th><th>Haversine</th><th>Pmonth</th><th>Pday</th><th>Phour</th><th>Pmin</th><th>PDweek</th><th>Dmonth</th><th>Dday</th><th>Dhour</th><th>Dmin</th><th>DDweek</th><th>Temp</th><th>Precip</th><th>Wind</th><th>Humid</th><th>Solar</th><th>Snow</th><th>GroundTemp</th><th>Dust</th><th>Pdatetime</th><th>Ddatetime</th></tr><tr><td>i64</td><td>i64</td><td>f64</td><td>f64</td><td>f64</td><td>f64</td><td>f64</td><td>i64</td><td>i64</td><td>i64</td><td>i64</td><td>i64</td><td>i64</td><td>i64</td><td>i64</td><td>i64</td><td>i64</td><td>f64</td><td>f64</td><td>f64</td><td>f64</td><td>f64</td><td>f64</td><td>f64</td><td>f64</td><td>datetime[μs]</td><td>datetime[μs]</td></tr></thead><tbody><tr><td>38</td><td>3190</td><td>37.550079</td><td>127.146912</td><td>37.538181</td><td>127.131752</td><td>1.88063</td><td>12</td><td>31</td><td>23</td><td>41</td><td>0</td><td>1</td><td>1</td><td>0</td><td>20</td><td>1</td><td>-5.2</td><td>0.0</td><td>1.6</td><td>47.0</td><td>0.0</td><td>0.0</td><td>-5.1</td><td>53.0</td><td>2023-12-31 23:41:00</td><td>2023-01-01 00:20:00</td></tr><tr><td>35</td><td>130</td><td>37.636234</td><td>126.918999</td><td>37.636234</td><td>126.918999</td><td>0.0</td><td>4</td><td>22</td><td>9</td><td>0</td><td>6</td><td>4</td><td>22</td><td>0</td><td>35</td><td>6</td><td>16.9</td><td>0.0</td><td>0.9</td><td>45.0</td><td>0.27</td><td>0.0</td><td>16.4</td><td>41.0</td><td>2023-04-22 09:00:00</td><td>2023-04-22 00:35:00</td></tr><tr><td>81</td><td>260</td><td>37.56599</td><td>126.987793</td><td>37.56599</td><td>126.987793</td><td>0.0</td><td>4</td><td>22</td><td>8</td><td>19</td><td>6</td><td>4</td><td>22</td><td>0</td><td>46</td><td>6</td><td>16.3</td><td>0.0</td><td>0.8</td><td>40.0</td><td>0.25</td><td>0.0</td><td>15.7</td><td>33.0</td><td>2023-04-22 08:19:00</td><td>2023-04-22 00:46:00</td></tr><tr><td>63</td><td>6440</td><td>37.595219</td><td>127.085999</td><td>37.595219</td><td>127.085999</td><td>0.0</td><td>12</td><td>31</td><td>23</td><td>5</td><td>0</td><td>1</td><td>1</td><td>0</td><td>9</td><td>1</td><td>-5.2</td><td>0.0</td><td>1.6</td><td>47.0</td><td>0.0</td><td>0.0</td><td>-5.1</td><td>53.0</td><td>2023-12-31 23:05:00</td><td>2023-01-01 00:09:00</td></tr><tr><td>53</td><td>4330</td><td>37.678677</td><td>127.040764</td><td>37.678677</td><td>127.040764</td><td>0.0</td><td>4</td><td>22</td><td>9</td><td>8</td><td>6</td><td>4</td><td>22</td><td>1</td><td>4</td><td>6</td><td>16.9</td><td>0.0</td><td>0.9</td><td>45.0</td><td>0.27</td><td>0.0</td><td>16.4</td><td>41.0</td><td>2023-04-22 09:08:00</td><td>2023-04-22 01:04:00</td></tr></tbody></table></div>"
      ],
      "text/plain": [
       "shape: (5, 27)\n",
       "┌──────────┬──────────┬───────────┬────────────┬───┬────────────┬──────┬─────────────┬─────────────┐\n",
       "│ Duration ┆ Distance ┆ PLong     ┆ PLatd      ┆ … ┆ GroundTemp ┆ Dust ┆ Pdatetime   ┆ Ddatetime   │\n",
       "│ ---      ┆ ---      ┆ ---       ┆ ---        ┆   ┆ ---        ┆ ---  ┆ ---         ┆ ---         │\n",
       "│ i64      ┆ i64      ┆ f64       ┆ f64        ┆   ┆ f64        ┆ f64  ┆ datetime[μs ┆ datetime[μs │\n",
       "│          ┆          ┆           ┆            ┆   ┆            ┆      ┆ ]           ┆ ]           │\n",
       "╞══════════╪══════════╪═══════════╪════════════╪═══╪════════════╪══════╪═════════════╪═════════════╡\n",
       "│ 38       ┆ 3190     ┆ 37.550079 ┆ 127.146912 ┆ … ┆ -5.1       ┆ 53.0 ┆ 2023-12-31  ┆ 2023-01-01  │\n",
       "│          ┆          ┆           ┆            ┆   ┆            ┆      ┆ 23:41:00    ┆ 00:20:00    │\n",
       "│ 35       ┆ 130      ┆ 37.636234 ┆ 126.918999 ┆ … ┆ 16.4       ┆ 41.0 ┆ 2023-04-22  ┆ 2023-04-22  │\n",
       "│          ┆          ┆           ┆            ┆   ┆            ┆      ┆ 09:00:00    ┆ 00:35:00    │\n",
       "│ 81       ┆ 260      ┆ 37.56599  ┆ 126.987793 ┆ … ┆ 15.7       ┆ 33.0 ┆ 2023-04-22  ┆ 2023-04-22  │\n",
       "│          ┆          ┆           ┆            ┆   ┆            ┆      ┆ 08:19:00    ┆ 00:46:00    │\n",
       "│ 63       ┆ 6440     ┆ 37.595219 ┆ 127.085999 ┆ … ┆ -5.1       ┆ 53.0 ┆ 2023-12-31  ┆ 2023-01-01  │\n",
       "│          ┆          ┆           ┆            ┆   ┆            ┆      ┆ 23:05:00    ┆ 00:09:00    │\n",
       "│ 53       ┆ 4330     ┆ 37.678677 ┆ 127.040764 ┆ … ┆ 16.4       ┆ 41.0 ┆ 2023-04-22  ┆ 2023-04-22  │\n",
       "│          ┆          ┆           ┆            ┆   ┆            ┆      ┆ 09:08:00    ┆ 01:04:00    │\n",
       "└──────────┴──────────┴───────────┴────────────┴───┴────────────┴──────┴─────────────┴─────────────┘"
      ]
     },
     "execution_count": 18,
     "metadata": {},
     "output_type": "execute_result"
    }
   ],
   "source": [
    "train = train.with_columns(\n",
    "    (\"2023\" + \"-\" + (pl.col(\"Pmonth\").cast(str)) + \"-\" + (pl.col(\"Pday\").cast(str)) + \" \" + (pl.col(\"Phour\").cast(str)) + \":\" + (pl.col(\"Pmin\").cast(str)))\\\n",
    "    .str.strptime(pl.Datetime, \"%Y-%m-%d %H:%M\").alias(\"Pdatetime\"),\n",
    "    (\"2023\" + \"-\" + (pl.col(\"Dmonth\").cast(str)) + \"-\" + (pl.col(\"Dday\").cast(str))+ \" \" + (pl.col(\"Dhour\").cast(str)) + \":\" + (pl.col(\"Dmin\").cast(str)))\\\n",
    "    .str.strptime(pl.Datetime, \"%Y-%m-%d %H:%M\").alias(\"Ddatetime\")\n",
    "    )\n",
    "print(len(train.filter((pl.col(\"Pdatetime\") > pl.col(\"Ddatetime\")))))\n",
    "train.filter((pl.col(\"Pdatetime\") > pl.col(\"Ddatetime\"))).head()\n"
   ]
  },
  {
   "cell_type": "code",
   "execution_count": 19,
   "id": "9057b064-4124-4d9c-aff6-931fa15a2fff",
   "metadata": {},
   "outputs": [
    {
     "data": {
      "text/html": [
       "<div><style>\n",
       ".dataframe > thead > tr > th,\n",
       ".dataframe > tbody > tr > td {\n",
       "  text-align: right;\n",
       "  white-space: pre-wrap;\n",
       "}\n",
       "</style>\n",
       "<small>shape: (5, 27)</small><table border=\"1\" class=\"dataframe\"><thead><tr><th>Duration</th><th>Distance</th><th>PLong</th><th>PLatd</th><th>DLong</th><th>DLatd</th><th>Haversine</th><th>Pmonth</th><th>Pday</th><th>Phour</th><th>Pmin</th><th>PDweek</th><th>Dmonth</th><th>Dday</th><th>Dhour</th><th>Dmin</th><th>DDweek</th><th>Temp</th><th>Precip</th><th>Wind</th><th>Humid</th><th>Solar</th><th>Snow</th><th>GroundTemp</th><th>Dust</th><th>Pdatetime</th><th>Ddatetime</th></tr><tr><td>i64</td><td>i64</td><td>f64</td><td>f64</td><td>f64</td><td>f64</td><td>f64</td><td>i64</td><td>i64</td><td>i64</td><td>i64</td><td>i64</td><td>i64</td><td>i64</td><td>i64</td><td>i64</td><td>i64</td><td>f64</td><td>f64</td><td>f64</td><td>f64</td><td>f64</td><td>f64</td><td>f64</td><td>f64</td><td>datetime[μs]</td><td>datetime[μs]</td></tr></thead><tbody><tr><td>27</td><td>3570</td><td>37.504494</td><td>126.921951</td><td>37.524837</td><td>126.934906</td><td>2.534251</td><td>1</td><td>1</td><td>21</td><td>15</td><td>0</td><td>1</td><td>1</td><td>21</td><td>44</td><td>0</td><td>-0.9</td><td>0.0</td><td>1.2</td><td>44.0</td><td>0.0</td><td>0.0</td><td>-1.2</td><td>35.0</td><td>2023-01-01 21:15:00</td><td>2023-01-01 21:44:00</td></tr><tr><td>13</td><td>2280</td><td>37.513126</td><td>127.10096</td><td>37.505692</td><td>127.084038</td><td>1.70623</td><td>1</td><td>1</td><td>20</td><td>26</td><td>0</td><td>1</td><td>1</td><td>20</td><td>41</td><td>0</td><td>-0.3</td><td>0.0</td><td>1.2</td><td>40.0</td><td>0.0</td><td>0.0</td><td>-0.8</td><td>33.0</td><td>2023-01-01 20:26:00</td><td>2023-01-01 20:41:00</td></tr><tr><td>61</td><td>6860</td><td>37.544579</td><td>126.950218</td><td>37.547691</td><td>126.919983</td><td>2.687959</td><td>1</td><td>1</td><td>15</td><td>20</td><td>0</td><td>1</td><td>1</td><td>16</td><td>27</td><td>0</td><td>3.0</td><td>0.0</td><td>2.9</td><td>27.0</td><td>0.78</td><td>0.0</td><td>1.4</td><td>50.0</td><td>2023-01-01 15:20:00</td><td>2023-01-01 16:27:00</td></tr><tr><td>52</td><td>7970</td><td>37.601299</td><td>126.935349</td><td>37.601299</td><td>126.935349</td><td>0.0</td><td>1</td><td>1</td><td>15</td><td>43</td><td>0</td><td>1</td><td>1</td><td>16</td><td>37</td><td>0</td><td>3.0</td><td>0.0</td><td>2.9</td><td>27.0</td><td>0.78</td><td>0.0</td><td>1.4</td><td>50.0</td><td>2023-01-01 15:43:00</td><td>2023-01-01 16:37:00</td></tr><tr><td>27</td><td>2630</td><td>37.478058</td><td>126.960495</td><td>37.478069</td><td>126.982033</td><td>1.900576</td><td>1</td><td>1</td><td>16</td><td>10</td><td>0</td><td>1</td><td>1</td><td>16</td><td>38</td><td>0</td><td>3.0</td><td>0.0</td><td>2.5</td><td>28.0</td><td>0.51</td><td>0.0</td><td>0.0</td><td>53.0</td><td>2023-01-01 16:10:00</td><td>2023-01-01 16:38:00</td></tr></tbody></table></div>"
      ],
      "text/plain": [
       "shape: (5, 27)\n",
       "┌──────────┬──────────┬───────────┬────────────┬───┬────────────┬──────┬─────────────┬─────────────┐\n",
       "│ Duration ┆ Distance ┆ PLong     ┆ PLatd      ┆ … ┆ GroundTemp ┆ Dust ┆ Pdatetime   ┆ Ddatetime   │\n",
       "│ ---      ┆ ---      ┆ ---       ┆ ---        ┆   ┆ ---        ┆ ---  ┆ ---         ┆ ---         │\n",
       "│ i64      ┆ i64      ┆ f64       ┆ f64        ┆   ┆ f64        ┆ f64  ┆ datetime[μs ┆ datetime[μs │\n",
       "│          ┆          ┆           ┆            ┆   ┆            ┆      ┆ ]           ┆ ]           │\n",
       "╞══════════╪══════════╪═══════════╪════════════╪═══╪════════════╪══════╪═════════════╪═════════════╡\n",
       "│ 27       ┆ 3570     ┆ 37.504494 ┆ 126.921951 ┆ … ┆ -1.2       ┆ 35.0 ┆ 2023-01-01  ┆ 2023-01-01  │\n",
       "│          ┆          ┆           ┆            ┆   ┆            ┆      ┆ 21:15:00    ┆ 21:44:00    │\n",
       "│ 13       ┆ 2280     ┆ 37.513126 ┆ 127.10096  ┆ … ┆ -0.8       ┆ 33.0 ┆ 2023-01-01  ┆ 2023-01-01  │\n",
       "│          ┆          ┆           ┆            ┆   ┆            ┆      ┆ 20:26:00    ┆ 20:41:00    │\n",
       "│ 61       ┆ 6860     ┆ 37.544579 ┆ 126.950218 ┆ … ┆ 1.4        ┆ 50.0 ┆ 2023-01-01  ┆ 2023-01-01  │\n",
       "│          ┆          ┆           ┆            ┆   ┆            ┆      ┆ 15:20:00    ┆ 16:27:00    │\n",
       "│ 52       ┆ 7970     ┆ 37.601299 ┆ 126.935349 ┆ … ┆ 1.4        ┆ 50.0 ┆ 2023-01-01  ┆ 2023-01-01  │\n",
       "│          ┆          ┆           ┆            ┆   ┆            ┆      ┆ 15:43:00    ┆ 16:37:00    │\n",
       "│ 27       ┆ 2630     ┆ 37.478058 ┆ 126.960495 ┆ … ┆ 0.0        ┆ 53.0 ┆ 2023-01-01  ┆ 2023-01-01  │\n",
       "│          ┆          ┆           ┆            ┆   ┆            ┆      ┆ 16:10:00    ┆ 16:38:00    │\n",
       "└──────────┴──────────┴───────────┴────────────┴───┴────────────┴──────┴─────────────┴─────────────┘"
      ]
     },
     "execution_count": 19,
     "metadata": {},
     "output_type": "execute_result"
    }
   ],
   "source": [
    "train.filter((pl.col(\"Pmonth\") == 1) & (pl.col(\"Pday\") == 1)).head()"
   ]
  },
  {
   "cell_type": "code",
   "execution_count": 15,
   "id": "98e56b13-60f4-4664-ba8b-0d3d866fc8fb",
   "metadata": {},
   "outputs": [
    {
     "name": "stdout",
     "output_type": "stream",
     "text": [
      "7\n"
     ]
    },
    {
     "data": {
      "text/html": [
       "<div><style>\n",
       ".dataframe > thead > tr > th,\n",
       ".dataframe > tbody > tr > td {\n",
       "  text-align: right;\n",
       "  white-space: pre-wrap;\n",
       "}\n",
       "</style>\n",
       "<small>shape: (5, 27)</small><table border=\"1\" class=\"dataframe\"><thead><tr><th>Duration</th><th>Distance</th><th>PLong</th><th>PLatd</th><th>DLong</th><th>DLatd</th><th>Haversine</th><th>Pmonth</th><th>Pday</th><th>Phour</th><th>Pmin</th><th>PDweek</th><th>Dmonth</th><th>Dday</th><th>Dhour</th><th>Dmin</th><th>DDweek</th><th>Temp</th><th>Precip</th><th>Wind</th><th>Humid</th><th>Solar</th><th>Snow</th><th>GroundTemp</th><th>Dust</th><th>Pdatetime</th><th>Ddatetime</th></tr><tr><td>i64</td><td>i64</td><td>f64</td><td>f64</td><td>f64</td><td>f64</td><td>f64</td><td>i64</td><td>i64</td><td>i64</td><td>i64</td><td>i64</td><td>i64</td><td>i64</td><td>i64</td><td>i64</td><td>i64</td><td>f64</td><td>f64</td><td>f64</td><td>f64</td><td>f64</td><td>f64</td><td>f64</td><td>f64</td><td>datetime[μs]</td><td>datetime[μs]</td></tr></thead><tbody><tr><td>57</td><td>17820</td><td>37.525116</td><td>127.052467</td><td>37.571255</td><td>127.079803</td><td>5.668257</td><td>4</td><td>22</td><td>8</td><td>52</td><td>6</td><td>4</td><td>22</td><td>0</td><td>53</td><td>6</td><td>16.3</td><td>0.0</td><td>0.8</td><td>40.0</td><td>0.25</td><td>0.0</td><td>15.7</td><td>33.0</td><td>2023-04-22 08:52:00</td><td>2023-04-22 00:53:00</td></tr><tr><td>14</td><td>2300</td><td>37.54073</td><td>127.102905</td><td>37.54073</td><td>127.102905</td><td>0.0</td><td>4</td><td>22</td><td>9</td><td>28</td><td>6</td><td>4</td><td>22</td><td>0</td><td>44</td><td>6</td><td>16.9</td><td>0.0</td><td>0.9</td><td>45.0</td><td>0.27</td><td>0.0</td><td>16.4</td><td>41.0</td><td>2023-04-22 09:28:00</td><td>2023-04-22 00:44:00</td></tr><tr><td>15</td><td>2730</td><td>37.54073</td><td>127.102905</td><td>37.54073</td><td>127.102905</td><td>0.0</td><td>4</td><td>22</td><td>9</td><td>28</td><td>6</td><td>4</td><td>22</td><td>0</td><td>44</td><td>6</td><td>16.9</td><td>0.0</td><td>0.9</td><td>45.0</td><td>0.27</td><td>0.0</td><td>16.4</td><td>41.0</td><td>2023-04-22 09:28:00</td><td>2023-04-22 00:44:00</td></tr><tr><td>44</td><td>6610</td><td>37.57576</td><td>127.022835</td><td>37.598068</td><td>127.039276</td><td>2.872589</td><td>4</td><td>22</td><td>8</td><td>51</td><td>6</td><td>4</td><td>22</td><td>0</td><td>37</td><td>6</td><td>16.3</td><td>0.0</td><td>0.8</td><td>40.0</td><td>0.25</td><td>0.0</td><td>15.7</td><td>33.0</td><td>2023-04-22 08:51:00</td><td>2023-04-22 00:37:00</td></tr><tr><td>4</td><td>890</td><td>37.531013</td><td>127.142365</td><td>37.534771</td><td>127.135239</td><td>0.754619</td><td>4</td><td>22</td><td>9</td><td>29</td><td>6</td><td>4</td><td>22</td><td>0</td><td>35</td><td>6</td><td>16.9</td><td>0.0</td><td>0.9</td><td>45.0</td><td>0.27</td><td>0.0</td><td>16.4</td><td>41.0</td><td>2023-04-22 09:29:00</td><td>2023-04-22 00:35:00</td></tr></tbody></table></div>"
      ],
      "text/plain": [
       "shape: (5, 27)\n",
       "┌──────────┬──────────┬───────────┬────────────┬───┬────────────┬──────┬─────────────┬─────────────┐\n",
       "│ Duration ┆ Distance ┆ PLong     ┆ PLatd      ┆ … ┆ GroundTemp ┆ Dust ┆ Pdatetime   ┆ Ddatetime   │\n",
       "│ ---      ┆ ---      ┆ ---       ┆ ---        ┆   ┆ ---        ┆ ---  ┆ ---         ┆ ---         │\n",
       "│ i64      ┆ i64      ┆ f64       ┆ f64        ┆   ┆ f64        ┆ f64  ┆ datetime[μs ┆ datetime[μs │\n",
       "│          ┆          ┆           ┆            ┆   ┆            ┆      ┆ ]           ┆ ]           │\n",
       "╞══════════╪══════════╪═══════════╪════════════╪═══╪════════════╪══════╪═════════════╪═════════════╡\n",
       "│ 57       ┆ 17820    ┆ 37.525116 ┆ 127.052467 ┆ … ┆ 15.7       ┆ 33.0 ┆ 2023-04-22  ┆ 2023-04-22  │\n",
       "│          ┆          ┆           ┆            ┆   ┆            ┆      ┆ 08:52:00    ┆ 00:53:00    │\n",
       "│ 14       ┆ 2300     ┆ 37.54073  ┆ 127.102905 ┆ … ┆ 16.4       ┆ 41.0 ┆ 2023-04-22  ┆ 2023-04-22  │\n",
       "│          ┆          ┆           ┆            ┆   ┆            ┆      ┆ 09:28:00    ┆ 00:44:00    │\n",
       "│ 15       ┆ 2730     ┆ 37.54073  ┆ 127.102905 ┆ … ┆ 16.4       ┆ 41.0 ┆ 2023-04-22  ┆ 2023-04-22  │\n",
       "│          ┆          ┆           ┆            ┆   ┆            ┆      ┆ 09:28:00    ┆ 00:44:00    │\n",
       "│ 44       ┆ 6610     ┆ 37.57576  ┆ 127.022835 ┆ … ┆ 15.7       ┆ 33.0 ┆ 2023-04-22  ┆ 2023-04-22  │\n",
       "│          ┆          ┆           ┆            ┆   ┆            ┆      ┆ 08:51:00    ┆ 00:37:00    │\n",
       "│ 4        ┆ 890      ┆ 37.531013 ┆ 127.142365 ┆ … ┆ 16.4       ┆ 41.0 ┆ 2023-04-22  ┆ 2023-04-22  │\n",
       "│          ┆          ┆           ┆            ┆   ┆            ┆      ┆ 09:29:00    ┆ 00:35:00    │\n",
       "└──────────┴──────────┴───────────┴────────────┴───┴────────────┴──────┴─────────────┴─────────────┘"
      ]
     },
     "execution_count": 15,
     "metadata": {},
     "output_type": "execute_result"
    }
   ],
   "source": [
    "test = test.with_columns(\n",
    "    (\"2023\" + \"-\" + (pl.col(\"Pmonth\").cast(str)) + \"-\" + (pl.col(\"Pday\").cast(str)) + \" \" + (pl.col(\"Phour\").cast(str)) + \":\" + (pl.col(\"Pmin\").cast(str)))\\\n",
    "    .str.strptime(pl.Datetime, \"%Y-%m-%d %H:%M\").alias(\"Pdatetime\"),\n",
    "    pl.when((pl.col(\"Pmonth\") == 12) & (pl.col(\"Pday\") == 31) & (pl.col(\"Dmonth\") == 1) & (pl.col(\"Dday\") == 1)) \\\n",
    "    .then((\"2024\" + \"-\" + (pl.col(\"Dmonth\").cast(str)) + \"-\" + (pl.col(\"Dday\").cast(str))+ \" \" + (pl.col(\"Dhour\").cast(str)) + \":\" + (pl.col(\"Dmin\").cast(str)))\\\n",
    "    .str.strptime(pl.Datetime, \"%Y-%m-%d %H:%M\")) \\\n",
    "    .otherwise((\"2023\" + \"-\" + (pl.col(\"Dmonth\").cast(str)) + \"-\" + (pl.col(\"Dday\").cast(str))+ \" \" + (pl.col(\"Dhour\").cast(str)) + \":\" + (pl.col(\"Dmin\").cast(str)))\\\n",
    "    .str.strptime(pl.Datetime, \"%Y-%m-%d %H:%M\")).alias(\"Ddatetime\")\n",
    "    )\n",
    "print(len(test.filter((pl.col(\"Pdatetime\") > pl.col(\"Ddatetime\")))))\n",
    "test.filter((pl.col(\"Pdatetime\") > pl.col(\"Ddatetime\"))).head()"
   ]
  },
  {
   "cell_type": "markdown",
   "id": "74c23c33-4657-4b58-ab7d-e088b0cd975f",
   "metadata": {},
   "source": [
    "### Note\n",
    "- 年またぎの場合の自転車の利用時間を考慮して利用時間のカラムを作成\n",
    "- 4/22のデータにバグがある（利用開始時間が利用終了時間より遅い）\n",
    "- -> これは削除（テストデータにも含まれているが、一回除去したデータで学習・検証）"
   ]
  },
  {
   "cell_type": "code",
   "execution_count": 2,
   "id": "dffb211c-e780-4f18-9380-192fd4a28ccf",
   "metadata": {},
   "outputs": [],
   "source": [
    "train = pl.read_parquet('../data/train.parquet')\n",
    "test = pl.read_parquet('../data/test.parquet')"
   ]
  },
  {
   "cell_type": "code",
   "execution_count": 3,
   "id": "2bef243c-9f87-4deb-8e9a-c6a30a9ddb64",
   "metadata": {},
   "outputs": [
    {
     "name": "stdout",
     "output_type": "stream",
     "text": [
      "check data: 0\n"
     ]
    }
   ],
   "source": [
    "train = train.with_columns(\n",
    "    (\"2023\" + \"-\" + (pl.col(\"Pmonth\").cast(str)) + \"-\" + (pl.col(\"Pday\").cast(str)) + \" \" + (pl.col(\"Phour\").cast(str)) + \":\" + (pl.col(\"Pmin\").cast(str)))\\\n",
    "    .str.strptime(pl.Datetime, \"%Y-%m-%d %H:%M\").alias(\"Pdatetime\"),\n",
    "    pl.when((pl.col(\"Pmonth\") == 12) & (pl.col(\"Pday\") == 31) & (pl.col(\"Dmonth\") == 1) & (pl.col(\"Dday\") == 1)) \\\n",
    "    .then((\"2024\" + \"-\" + (pl.col(\"Dmonth\").cast(str)) + \"-\" + (pl.col(\"Dday\").cast(str))+ \" \" + (pl.col(\"Dhour\").cast(str)) + \":\" + (pl.col(\"Dmin\").cast(str)))\\\n",
    "    .str.strptime(pl.Datetime, \"%Y-%m-%d %H:%M\")) \\\n",
    "    .otherwise((\"2023\" + \"-\" + (pl.col(\"Dmonth\").cast(str)) + \"-\" + (pl.col(\"Dday\").cast(str))+ \" \" + (pl.col(\"Dhour\").cast(str)) + \":\" + (pl.col(\"Dmin\").cast(str)))\\\n",
    "    .str.strptime(pl.Datetime, \"%Y-%m-%d %H:%M\")).alias(\"Ddatetime\")\n",
    "    )\n",
    "train = train.filter(~(pl.col(\"Pdatetime\") > pl.col(\"Ddatetime\")))\n",
    "print(f'check data: {len(train.filter((pl.col(\"Pdatetime\") > pl.col(\"Ddatetime\"))))}')\n"
   ]
  },
  {
   "cell_type": "code",
   "execution_count": 6,
   "id": "b3deacbe-6d67-45b4-9aa3-16a9be492115",
   "metadata": {},
   "outputs": [],
   "source": [
    "train = train.with_columns((train['Ddatetime'] - train['Pdatetime']).alias('duration'))\n",
    "train = train.with_columns((pl.col(\"duration\") / (60 * 10**6)).cast(pl.Int16).alias('Usage_time'))\n",
    "#     (pl.col(\"Ddatetime\") - pl.col(\"Pdatetime\")).cast(pl.Int16).alias(\"Usage Time\")\n",
    "# train.with_columns(nwee.cast(int).alias(\"Usage\"))"
   ]
  },
  {
   "cell_type": "code",
   "execution_count": null,
   "id": "13a9a625-0cfa-4d5c-9a21-de07f6968e1b",
   "metadata": {},
   "outputs": [],
   "source": []
  }
 ],
 "metadata": {
  "kernelspec": {
   "display_name": "Python 3 (ipykernel)",
   "language": "python",
   "name": "python3"
  },
  "language_info": {
   "codemirror_mode": {
    "name": "ipython",
    "version": 3
   },
   "file_extension": ".py",
   "mimetype": "text/x-python",
   "name": "python",
   "nbconvert_exporter": "python",
   "pygments_lexer": "ipython3",
   "version": "3.10.12"
  }
 },
 "nbformat": 4,
 "nbformat_minor": 5
}
